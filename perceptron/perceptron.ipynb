{
 "cells": [
  {
   "cell_type": "markdown",
   "id": "cca20fe6",
   "metadata": {},
   "source": [
    "# Atividade Perceptron\n",
    "## Aluno: Gustavo Silveira Dias"
   ]
  },
  {
   "cell_type": "code",
   "execution_count": 1,
   "id": "b791f230",
   "metadata": {},
   "outputs": [],
   "source": [
    "import numpy as np\n",
    "import pandas as pd\n",
    "import matplotlib.pyplot as plt\n",
    "import pygwalker as pyg\n",
    "from sklearn.metrics import confusion_matrix, classification_report\n",
    "import seaborn as sns\n",
    "import plotly.graph_objects as go"
   ]
  },
  {
   "cell_type": "code",
   "execution_count": 2,
   "id": "3a262816",
   "metadata": {},
   "outputs": [],
   "source": [
    "# Funções \n",
    "def degrauBipolar(u):\n",
    "    return np.where(u >=-1,1,0)\n",
    "\n",
    "# Função que classifica a amostra com base na rede já treinada\n",
    "def classifica(w,x):\n",
    "    u = np.dot(w.T, x)\n",
    "    yhat = degrauBipolar(u)\n",
    "    return yhat"
   ]
  },
  {
   "cell_type": "markdown",
   "id": "d3e95098",
   "metadata": {},
   "source": [
    "## Implementação do Perceptron"
   ]
  },
  {
   "cell_type": "code",
   "execution_count": 3,
   "id": "9eaceb86",
   "metadata": {},
   "outputs": [],
   "source": [
    "# Passo 1: Obter o conjunto de amostras de treinamento \n",
    "\n",
    "# Carregar tabela de dados\n",
    "dados = pd.read_csv('dataset_iris.csv', sep=';')\n",
    "\n",
    "# Análise exploratória dos dados\n",
    "#walker = pyg.walk(dados)"
   ]
  },
  {
   "cell_type": "code",
   "execution_count": 4,
   "id": "32f990fe",
   "metadata": {},
   "outputs": [
    {
     "name": "stdout",
     "output_type": "stream",
     "text": [
      "30\n",
      "3\n",
      "[[-0.6508  0.1097  4.0009]\n",
      " [-1.4492  0.8896  4.4005]\n",
      " [ 2.085   0.6876 12.071 ]\n",
      " [ 0.2626  1.1476  7.7985]\n",
      " [ 0.6418  1.0234  7.0427]\n",
      " [ 0.2569  0.673   8.3265]\n",
      " [ 1.1155  0.6043  7.4446]\n",
      " [ 0.0914  0.3399  7.0677]\n",
      " [ 0.0121  0.5256  4.6316]\n",
      " [-0.0429  0.466   5.4323]\n",
      " [ 0.434   0.687   8.2287]\n",
      " [ 0.2735  1.0287  7.1934]\n",
      " [ 0.4839  0.4851  7.485 ]\n",
      " [ 0.4089 -0.1267  5.5019]\n",
      " [ 1.4391  0.1614  8.5843]\n",
      " [-0.9115 -0.1973  2.1962]\n",
      " [ 0.3654  1.0475  7.4858]\n",
      " [ 0.2144  0.7515  7.1699]\n",
      " [ 0.2013  1.0014  6.5489]\n",
      " [ 0.6483  0.2183  5.8991]\n",
      " [-0.1147  0.2242  7.2435]\n",
      " [-0.797   0.8795  3.8762]\n",
      " [-1.0625  0.6366  2.4707]\n",
      " [ 0.5307  0.1285  5.6883]\n",
      " [-1.22    0.7777  1.7252]\n",
      " [ 0.3957  0.1076  5.6623]\n",
      " [-0.1013  0.5989  7.1812]\n",
      " [ 2.4482  0.9455 11.2095]\n",
      " [ 2.0149  0.6192 10.9263]\n",
      " [ 0.2012  0.2611  5.4631]]\n"
     ]
    }
   ],
   "source": [
    "# Quantidade de elementos na amostra\n",
    "n_amostras = dados.shape[0]\n",
    "print(n_amostras)\n",
    "\n",
    "# Quantidade variáveis de entrada (Subtrair a coluna de tipo)\n",
    "n_variaveis = dados.shape[1] - 1\n",
    "print(n_variaveis)\n",
    "\n",
    "# Separando os dados contendo apenas as variáveis de entrada\n",
    "x = dados.iloc[:,0:n_variaveis].values\n",
    "print(x)"
   ]
  },
  {
   "cell_type": "code",
   "execution_count": 5,
   "id": "95aa712c",
   "metadata": {},
   "outputs": [
    {
     "name": "stdout",
     "output_type": "stream",
     "text": [
      "[[-0.6508  0.1097  4.0009 -1.    ]\n",
      " [-1.4492  0.8896  4.4005 -1.    ]\n",
      " [ 2.085   0.6876 12.071  -1.    ]\n",
      " [ 0.2626  1.1476  7.7985 -1.    ]\n",
      " [ 0.6418  1.0234  7.0427 -1.    ]\n",
      " [ 0.2569  0.673   8.3265 -1.    ]\n",
      " [ 1.1155  0.6043  7.4446 -1.    ]\n",
      " [ 0.0914  0.3399  7.0677 -1.    ]\n",
      " [ 0.0121  0.5256  4.6316 -1.    ]\n",
      " [-0.0429  0.466   5.4323 -1.    ]\n",
      " [ 0.434   0.687   8.2287 -1.    ]\n",
      " [ 0.2735  1.0287  7.1934 -1.    ]\n",
      " [ 0.4839  0.4851  7.485  -1.    ]\n",
      " [ 0.4089 -0.1267  5.5019 -1.    ]\n",
      " [ 1.4391  0.1614  8.5843 -1.    ]\n",
      " [-0.9115 -0.1973  2.1962 -1.    ]\n",
      " [ 0.3654  1.0475  7.4858 -1.    ]\n",
      " [ 0.2144  0.7515  7.1699 -1.    ]\n",
      " [ 0.2013  1.0014  6.5489 -1.    ]\n",
      " [ 0.6483  0.2183  5.8991 -1.    ]\n",
      " [-0.1147  0.2242  7.2435 -1.    ]\n",
      " [-0.797   0.8795  3.8762 -1.    ]\n",
      " [-1.0625  0.6366  2.4707 -1.    ]\n",
      " [ 0.5307  0.1285  5.6883 -1.    ]\n",
      " [-1.22    0.7777  1.7252 -1.    ]\n",
      " [ 0.3957  0.1076  5.6623 -1.    ]\n",
      " [-0.1013  0.5989  7.1812 -1.    ]\n",
      " [ 2.4482  0.9455 11.2095 -1.    ]\n",
      " [ 2.0149  0.6192 10.9263 -1.    ]\n",
      " [ 0.2012  0.2611  5.4631 -1.    ]]\n"
     ]
    }
   ],
   "source": [
    "# Inserindo o bias \n",
    "bias = np.ones((n_amostras, 1)) * -1\n",
    "x = np.hstack((x,bias))\n",
    "print(x)"
   ]
  },
  {
   "cell_type": "code",
   "execution_count": 6,
   "id": "af33ea24",
   "metadata": {},
   "outputs": [
    {
     "name": "stdout",
     "output_type": "stream",
     "text": [
      "[-1. -1. -1.  1.  1. -1.  1. -1.  1.  1. -1.  1. -1. -1. -1. -1.  1.  1.\n",
      "  1.  1. -1.  1.  1.  1.  1. -1. -1.  1. -1.  1.]\n",
      "-1: 14\n",
      "1: 14\n"
     ]
    }
   ],
   "source": [
    "# Passo 2: Do vetor de saídas Y, associar a saída esperada para x\n",
    "y = dados.iloc[:,n_variaveis].values\n",
    "print(y)\n",
    "\n",
    "# Contar quantas amostras de cada classe existem no dataset\n",
    "print(f\"-1: {(y == -1).sum()}\")\n",
    "print(f\"1: {(y == -1).sum()}\")"
   ]
  },
  {
   "cell_type": "code",
   "execution_count": 7,
   "id": "771d9d8a",
   "metadata": {},
   "outputs": [
    {
     "name": "stdout",
     "output_type": "stream",
     "text": [
      "[-0.06967158  0.05934657 -0.28202203 -0.41160772]\n"
     ]
    }
   ],
   "source": [
    "# Passo 3: Inicializar o vetor de pesos w com valores aleatórios\n",
    "w = np.random.uniform(-1,1,n_variaveis + 1)\n",
    "print(w)"
   ]
  },
  {
   "cell_type": "code",
   "execution_count": 8,
   "id": "1d556f95",
   "metadata": {},
   "outputs": [],
   "source": [
    "# Passo 4: Definir a taxa de aprendizado entre 0 e 1\n",
    "# Taxa de aprendizado\n",
    "eta = 0.01\n",
    "\n",
    "# Passo 5: Calcular o numero de amostras em X\n",
    "# Já foi feito  e está em n_amostras\n",
    "\n",
    "# Passo 6: Definir a tolerancia ao erro (quantidade de épocas)\n",
    "tolerancia = 0.01\n",
    "\n",
    "# Passo 7: Setar o erro inicial maior que a tolerancia\n",
    "erroMedio = tolerancia + 1\n",
    "\n",
    "\n",
    "# Passo 8: Criar o vetor que irá armazenar o erro médio de cada época\n",
    "erroEpocas = []\n",
    "\n",
    "# Passo 9: Inicializa o contador de épocas\n",
    "epoca = 0\n",
    "\n",
    "# Passo 10: Define o maximo de épocas \n",
    "maxEpocas = 300\n"
   ]
  },
  {
   "cell_type": "code",
   "execution_count": 9,
   "id": "e1acbb17",
   "metadata": {},
   "outputs": [],
   "source": [
    "# Passo 11 e 12: Seta os critérios de parada\n",
    "criterioErro = True\n",
    "criterioEpoca = True\n",
    "\n",
    "# Passo 13: Enquanto o erro for maior que a tolerancia e o numero de épocas for menor que o maximo de épocas\n",
    "while criterioErro and criterioEpoca:\n",
    "    # Passo 14: Seta o erro da epoca atual como zero\n",
    "    erroAtual = 0\n",
    "\n",
    "    # Passo 15: Incrementa o contador de épocas \n",
    "    epoca += 1\n",
    "\n",
    "    # Passo 16: Embaralha as amostras de X e Y\n",
    "    indicesEmbaralhados = np.random.permutation(n_amostras)\n",
    "    \n",
    "    # Passo 17: Para cada amostra no conjunto x faça\n",
    "    for i in range(n_amostras):\n",
    "        # Obter a amostra atual de X\n",
    "        indiceAmostra = indicesEmbaralhados[i]\n",
    "        # Captura a amostra atual a ser apresentada ao perceptron\n",
    "        xiAmostra = x[indiceAmostra,:]\n",
    "\n",
    "        # Passo 18: Calcular o potencial de ativação u\n",
    "        u = np.dot(w.T, xiAmostra)\n",
    "\n",
    "        # Passo 19: Calcular a saída prevista com base na função de ativação\n",
    "        yhat = degrauBipolar(u)\n",
    "\n",
    "        # Passo 20: Calcular o erro entre o valor esperado e o previsto\n",
    "        e = y[indiceAmostra] - yhat\n",
    "\n",
    "        # Passo 21: Atualizar os pesos aplicando a regra de Hebb\n",
    "        w = w + ((eta * e) * xiAmostra)\n",
    "\n",
    "        # Passo 22: Acumular o erro atual ao erro da época\n",
    "        erroAtual += abs(e)\n",
    "\n",
    "        # Passo 23: Calcular o erro médio da época\n",
    "        erroMedio = erroAtual / n_amostras \n",
    "\n",
    "        # Passo 24: Armazena o erro médio da época no vetor de erros de todas épocas\n",
    "        erroEpocas.append(erroMedio)\n",
    "    \n",
    "        # Passo 25 e 26: Verifica os critérios de parada\n",
    "        criterioErro = erroMedio > tolerancia\n",
    "        criterioEpoca = epoca < maxEpocas\n"
   ]
  },
  {
   "cell_type": "code",
   "execution_count": 10,
   "id": "f2c0f794",
   "metadata": {},
   "outputs": [
    {
     "data": {
      "image/png": "[encoded data removed]",
      "text/plain": [
       "<Figure size 640x480 with 1 Axes>"
      ]
     },
     "metadata": {},
     "output_type": "display_data"
    }
   ],
   "source": [
    "# Plotando a convergência do algoritmo com o erro época a época\n",
    "plt.Figure(figsize=(4,4))\n",
    "plt.plot(erroEpocas[:maxEpocas])\n",
    "plt.title('Convergência do erro')\n",
    "plt.xlabel('Épocas')\n",
    "plt.ylabel('Erro médio')\n",
    "plt.grid(True)\n",
    "plt.show()"
   ]
  },
  {
   "cell_type": "code",
   "execution_count": 11,
   "id": "74009bc7",
   "metadata": {},
   "outputs": [
    {
     "name": "stdout",
     "output_type": "stream",
     "text": [
      "Conjunto de pesos W*\n",
      "[ 0.87656242 16.89409457 -9.86178603 -4.12160772]\n",
      "Épocas necessárias para convergência\n",
      "300\n"
     ]
    }
   ],
   "source": [
    "# Exibindo os pesos calibrados pela regra de Hebb\n",
    "print('Conjunto de pesos W*')\n",
    "print(w)\n",
    "\n",
    "print('Épocas necessárias para convergência')\n",
    "print(epoca)"
   ]
  },
  {
   "cell_type": "code",
   "execution_count": 12,
   "id": "f694cb92",
   "metadata": {},
   "outputs": [
    {
     "name": "stdout",
     "output_type": "stream",
     "text": [
      "[0. 0. 0. 0. 0. 0. 0. 0. 0. 0. 0. 0. 0. 0. 0. 0. 0. 0. 0. 0. 0. 0. 0. 0.\n",
      " 1. 0. 0. 0. 0. 0.]\n"
     ]
    }
   ],
   "source": [
    "# Cria um vetor para receber todas as previsões realizadas pela RNA\n",
    "yhat = np.zeros(n_amostras)\n",
    "\n",
    "# Armazenar todas as previsões uma para cada amostra\n",
    "for i in range(n_amostras):\n",
    "    yhat[i] = classifica(w, x[i,:])\n",
    "\n",
    "print(yhat)"
   ]
  },
  {
   "cell_type": "markdown",
   "id": "119434be",
   "metadata": {},
   "source": [
    "## Análise de qualidade  de classificação"
   ]
  },
  {
   "cell_type": "code",
   "execution_count": 13,
   "id": "5019ba98",
   "metadata": {},
   "outputs": [
    {
     "name": "stdout",
     "output_type": "stream",
     "text": [
      " Matriz de Confusão. /n [[14  0]\n",
      " [15  1]]\n"
     ]
    },
    {
     "data": {
      "image/png": "[encoded data removed]",
      "text/plain": [
       "<Figure size 400x300 with 1 Axes>"
      ]
     },
     "metadata": {},
     "output_type": "display_data"
    }
   ],
   "source": [
    "# Converter -1 em 0 para melhor visualizar a matriz de confusão\n",
    "yhat_display = np.where(yhat == -1, 0, yhat)\n",
    "y_display = np.where(y == -1, 0, y)\n",
    "\n",
    "\n",
    "# Gera a matriz de confusão\n",
    "cm = confusion_matrix(y_display, yhat_display)\n",
    "print(' Matriz de Confusão. /n',cm)\n",
    "\n",
    "\n",
    "# Plotar a matriz de confusão crocante\n",
    "plt.figure(figsize=(4,3))\n",
    "sns.heatmap(cm, annot=True, fmt='d', cmap='Blues', cbar=False,\n",
    "            xticklabels=['Setosa','Versicolar'],\n",
    "            yticklabels=['Setosa','Versicolar'])\n",
    "plt.title('Matriz de Confusão')\n",
    "plt.xlabel('Valor real')\n",
    "plt.ylabel('Valor predito')\n",
    "plt.show()"
   ]
  },
  {
   "cell_type": "code",
   "execution_count": 14,
   "id": "99767804",
   "metadata": {},
   "outputs": [
    {
     "name": "stdout",
     "output_type": "stream",
     "text": [
      "Acurácia: 3.3333333333333335\n"
     ]
    }
   ],
   "source": [
    "# Calculo da acurácia \n",
    "acuracia = np.sum(yhat == y) / n_amostras * 100\n",
    "print(f'Acurácia:', acuracia)"
   ]
  },
  {
   "cell_type": "code",
   "execution_count": 15,
   "id": "b11945d9",
   "metadata": {},
   "outputs": [
    {
     "data": {
      "image/png": "[encoded data removed]",
      "text/plain": [
       "<Figure size 400x400 with 1 Axes>"
      ]
     },
     "metadata": {},
     "output_type": "display_data"
    }
   ],
   "source": [
    "if cm.shape == (2, 2):\n",
    "   resultado = [cm[0, 0], cm[0, 1], cm[1, 1], cm[1, 0]]\n",
    "   labels = ['VV', 'VS', 'SS', 'SV']\n",
    "   colors = ['green', 'red', 'green', 'red']\n",
    "   \n",
    "   plt.figure(figsize=(4, 4))\n",
    "   plt.bar(labels, resultado, color=colors)\n",
    "   plt.xlabel('Previsões')\n",
    "   plt.ylabel('Quantidade')\n",
    "   plt.title('Resultado das Classificações')\n",
    "   plt.ylim(0, 20)\n",
    "   for i, v in enumerate(resultado):\n",
    "      plt.text(i, v + 0.2, str(v), ha='center')\n",
    "   plt.show()"
   ]
  },
  {
   "cell_type": "code",
   "execution_count": 16,
   "id": "79ae391a",
   "metadata": {},
   "outputs": [
    {
     "ename": "ValueError",
     "evalue": "Mime type rendering requires nbformat>=4.2.0 but it is not installed",
     "output_type": "error",
     "traceback": [
      "\u001b[31m---------------------------------------------------------------------------\u001b[39m",
      "\u001b[31mValueError\u001b[39m                                Traceback (most recent call last)",
      "\u001b[36mCell\u001b[39m\u001b[36m \u001b[39m\u001b[32mIn[16]\u001b[39m\u001b[32m, line 53\u001b[39m\n\u001b[32m     42\u001b[39m \u001b[38;5;66;03m# Layout\u001b[39;00m\n\u001b[32m     43\u001b[39m fig.update_layout(\n\u001b[32m     44\u001b[39m    title=\u001b[33m'\u001b[39m\u001b[33mClassificação 3D com Hiperplano\u001b[39m\u001b[33m'\u001b[39m,\n\u001b[32m     45\u001b[39m    scene=\u001b[38;5;28mdict\u001b[39m(\n\u001b[32m   (...)\u001b[39m\u001b[32m     51\u001b[39m    height=\u001b[32m600\u001b[39m\n\u001b[32m     52\u001b[39m )\n\u001b[32m---> \u001b[39m\u001b[32m53\u001b[39m \u001b[43mfig\u001b[49m\u001b[43m.\u001b[49m\u001b[43mshow\u001b[49m\u001b[43m(\u001b[49m\u001b[43m)\u001b[49m\n",
      "\u001b[36mFile \u001b[39m\u001b[32mc:\\Users\\gusta\\anaconda3\\envs\\perceptron\\Lib\\site-packages\\plotly\\basedatatypes.py:3414\u001b[39m, in \u001b[36mBaseFigure.show\u001b[39m\u001b[34m(self, *args, **kwargs)\u001b[39m\n\u001b[32m   3381\u001b[39m \u001b[38;5;250m\u001b[39m\u001b[33;03m\"\"\"\u001b[39;00m\n\u001b[32m   3382\u001b[39m \u001b[33;03mShow a figure using either the default renderer(s) or the renderer(s)\u001b[39;00m\n\u001b[32m   3383\u001b[39m \u001b[33;03mspecified by the renderer argument\u001b[39;00m\n\u001b[32m   (...)\u001b[39m\u001b[32m   3410\u001b[39m \u001b[33;03mNone\u001b[39;00m\n\u001b[32m   3411\u001b[39m \u001b[33;03m\"\"\"\u001b[39;00m\n\u001b[32m   3412\u001b[39m \u001b[38;5;28;01mimport\u001b[39;00m\u001b[38;5;250m \u001b[39m\u001b[34;01mplotly\u001b[39;00m\u001b[34;01m.\u001b[39;00m\u001b[34;01mio\u001b[39;00m\u001b[38;5;250m \u001b[39m\u001b[38;5;28;01mas\u001b[39;00m\u001b[38;5;250m \u001b[39m\u001b[34;01mpio\u001b[39;00m\n\u001b[32m-> \u001b[39m\u001b[32m3414\u001b[39m \u001b[38;5;28;01mreturn\u001b[39;00m \u001b[43mpio\u001b[49m\u001b[43m.\u001b[49m\u001b[43mshow\u001b[49m\u001b[43m(\u001b[49m\u001b[38;5;28;43mself\u001b[39;49m\u001b[43m,\u001b[49m\u001b[43m \u001b[49m\u001b[43m*\u001b[49m\u001b[43margs\u001b[49m\u001b[43m,\u001b[49m\u001b[43m \u001b[49m\u001b[43m*\u001b[49m\u001b[43m*\u001b[49m\u001b[43mkwargs\u001b[49m\u001b[43m)\u001b[49m\n",
      "\u001b[36mFile \u001b[39m\u001b[32mc:\\Users\\gusta\\anaconda3\\envs\\perceptron\\Lib\\site-packages\\plotly\\io\\_renderers.py:425\u001b[39m, in \u001b[36mshow\u001b[39m\u001b[34m(fig, renderer, validate, **kwargs)\u001b[39m\n\u001b[32m    420\u001b[39m     \u001b[38;5;28;01mraise\u001b[39;00m \u001b[38;5;167;01mValueError\u001b[39;00m(\n\u001b[32m    421\u001b[39m         \u001b[33m\"\u001b[39m\u001b[33mMime type rendering requires ipython but it is not installed\u001b[39m\u001b[33m\"\u001b[39m\n\u001b[32m    422\u001b[39m     )\n\u001b[32m    424\u001b[39m \u001b[38;5;28;01mif\u001b[39;00m \u001b[38;5;129;01mnot\u001b[39;00m nbformat \u001b[38;5;129;01mor\u001b[39;00m Version(nbformat.__version__) < Version(\u001b[33m\"\u001b[39m\u001b[33m4.2.0\u001b[39m\u001b[33m\"\u001b[39m):\n\u001b[32m--> \u001b[39m\u001b[32m425\u001b[39m     \u001b[38;5;28;01mraise\u001b[39;00m \u001b[38;5;167;01mValueError\u001b[39;00m(\n\u001b[32m    426\u001b[39m         \u001b[33m\"\u001b[39m\u001b[33mMime type rendering requires nbformat>=4.2.0 but it is not installed\u001b[39m\u001b[33m\"\u001b[39m\n\u001b[32m    427\u001b[39m     )\n\u001b[32m    429\u001b[39m display_jupyter_version_warnings()\n\u001b[32m    431\u001b[39m ipython_display.display(bundle, raw=\u001b[38;5;28;01mTrue\u001b[39;00m)\n",
      "\u001b[31mValueError\u001b[39m: Mime type rendering requires nbformat>=4.2.0 but it is not installed"
     ]
    }
   ],
   "source": [
    "\n",
    "# Definir cores conforme previsão\n",
    "colors = ['red' if y == -1 else 'blue' for y in yhat]\n",
    "\n",
    "# Criar malha para o hiperplano\n",
    "x1_range = np.linspace(x[:, 0].min() - 0.5, x[:, 0].max() + 0.5, 20)\n",
    "x2_range = np.linspace(x[:, 1].min() - 0.5, x[:, 1].max() + 0.5, 20)\n",
    "x1_grid, x2_grid = np.meshgrid(x1_range, x2_range)\n",
    "\n",
    "# Calcular x3 para o hiperplano\n",
    "# Se w[3] for o bias (intercepto)\n",
    "x3_grid = (w[0]*x1_grid + w[1]*x2_grid - w[3]) / (-w[2])\n",
    "\n",
    "# Criar figura\n",
    "fig = go.Figure()\n",
    "\n",
    "# Adicionar hiperplano\n",
    "fig.add_trace(go.Surface(\n",
    "   x=x1_grid,\n",
    "   y=x2_grid,\n",
    "   z=x3_grid,\n",
    "   colorscale='gray',\n",
    "   opacity=0.3,\n",
    "   showscale=False,\n",
    "   name='Hiperplano'\n",
    "))\n",
    "\n",
    "# Adicionar pontos\n",
    "fig.add_trace(go.Scatter3d(\n",
    "   x=x[:, 0],\n",
    "   y=x[:, 1],\n",
    "   z=x[:, 2],\n",
    "   mode='markers',\n",
    "   marker=dict(\n",
    "      size=8,\n",
    "      color=colors,\n",
    "      opacity=0.8,\n",
    "      line=dict(width=1, color='white')\n",
    "   ),\n",
    "   name='Amostras'\n",
    "))\n",
    "\n",
    "# Layout\n",
    "fig.update_layout(\n",
    "   title='Classificação 3D com Hiperplano',\n",
    "   scene=dict(\n",
    "      xaxis_title='x1',\n",
    "      yaxis_title='x2',\n",
    "      zaxis_title='x3'\n",
    "   ),\n",
    "   width=800,\n",
    "   height=600\n",
    ")\n",
    "fig.show()\n"
   ]
  }
 ],
 "metadata": {
  "kernelspec": {
   "display_name": "perceptron",
   "language": "python",
   "name": "python3"
  },
  "language_info": {
   "codemirror_mode": {
    "name": "ipython",
    "version": 3
   },
   "file_extension": ".py",
   "mimetype": "text/x-python",
   "name": "python",
   "nbconvert_exporter": "python",
   "pygments_lexer": "ipython3",
   "version": "3.11.13"
  }
 },
 "nbformat": 4,
 "nbformat_minor": 5
}
