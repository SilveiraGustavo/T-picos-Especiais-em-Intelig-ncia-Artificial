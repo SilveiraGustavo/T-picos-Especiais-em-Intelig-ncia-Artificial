{
 "cells": [
  {
   "cell_type": "markdown",
   "id": "e03dffea",
   "metadata": {},
   "source": [
    "# Atividade: Neurônio Artificial\n",
    "### Gustavo Silveira Dias"
   ]
  },
  {
   "cell_type": "code",
   "execution_count": 1,
   "id": "35152d01",
   "metadata": {},
   "outputs": [],
   "source": [
    "# Import necessary libraries\n",
    "import numpy as np \n",
    "import pandas as pd\n",
    "import matplotlib.pyplot as plt"
   ]
  },
  {
   "cell_type": "code",
   "execution_count": 2,
   "id": "bf87e277",
   "metadata": {},
   "outputs": [],
   "source": [
    "def Neuron(x1,x2,bias,w0,w1,w2):\n",
    "    # Calculate the weighted sum\n",
    "    u = (x1 * w1)+ (x2 * w2) + (bias * 0)\n",
    "    return 1 if u > 0 else 0"
   ]
  },
  {
   "cell_type": "code",
   "execution_count": 3,
   "id": "389fcf64",
   "metadata": {},
   "outputs": [
    {
     "data": {
      "text/html": [
       "<div>\n",
       "<style scoped>\n",
       "    .dataframe tbody tr th:only-of-type {\n",
       "        vertical-align: middle;\n",
       "    }\n",
       "\n",
       "    .dataframe tbody tr th {\n",
       "        vertical-align: top;\n",
       "    }\n",
       "\n",
       "    .dataframe thead th {\n",
       "        text-align: right;\n",
       "    }\n",
       "</style>\n",
       "<table border=\"1\" class=\"dataframe\">\n",
       "  <thead>\n",
       "    <tr style=\"text-align: right;\">\n",
       "      <th></th>\n",
       "      <th>x</th>\n",
       "      <th>y</th>\n",
       "    </tr>\n",
       "  </thead>\n",
       "  <tbody>\n",
       "    <tr>\n",
       "      <th>0</th>\n",
       "      <td>1.183988</td>\n",
       "      <td>1.832880</td>\n",
       "    </tr>\n",
       "    <tr>\n",
       "      <th>1</th>\n",
       "      <td>1.523565</td>\n",
       "      <td>2.293337</td>\n",
       "    </tr>\n",
       "    <tr>\n",
       "      <th>2</th>\n",
       "      <td>2.199241</td>\n",
       "      <td>2.342880</td>\n",
       "    </tr>\n",
       "    <tr>\n",
       "      <th>3</th>\n",
       "      <td>2.768052</td>\n",
       "      <td>2.179136</td>\n",
       "    </tr>\n",
       "    <tr>\n",
       "      <th>4</th>\n",
       "      <td>2.165374</td>\n",
       "      <td>1.888445</td>\n",
       "    </tr>\n",
       "  </tbody>\n",
       "</table>\n",
       "</div>"
      ],
      "text/plain": [
       "          x         y\n",
       "0  1.183988  1.832880\n",
       "1  1.523565  2.293337\n",
       "2  2.199241  2.342880\n",
       "3  2.768052  2.179136\n",
       "4  2.165374  1.888445"
      ]
     },
     "execution_count": 3,
     "metadata": {},
     "output_type": "execute_result"
    }
   ],
   "source": [
    "#Leituras dos dados\n",
    "dados = pd.read_csv('amostrabiveriada.csv', sep=';', decimal=',')\n",
    "\n",
    "#Convertendo para float se necessario\n",
    "\n",
    "dados['x'] = pd.to_numeric(dados['x'], errors='coerce')\n",
    "dados['y'] = pd.to_numeric(dados['y'], errors='coerce')\n",
    "\n",
    "dados.head()"
   ]
  },
  {
   "cell_type": "code",
   "execution_count": 4,
   "id": "b25a662e",
   "metadata": {},
   "outputs": [
    {
     "data": {
      "image/png": "[encoded data removed]",
      "text/plain": [
       "<Figure size 400x400 with 1 Axes>"
      ]
     },
     "metadata": {},
     "output_type": "display_data"
    }
   ],
   "source": [
    "#Criando o gráfico de dispersao\n",
    "\n",
    "plt.figure(figsize=(4,4))\n",
    "plt.scatter(dados['x'], dados['y'], c='black', s=10)\n",
    "plt.xlim(0,6)\n",
    "plt.ylim(0,6)\n",
    "plt.xlabel('x')\n",
    "plt.ylabel('y')\n",
    "plt.grid(True, alpha=0.3)\n",
    "plt.show()"
   ]
  },
  {
   "cell_type": "code",
   "execution_count": 5,
   "id": "334c8186",
   "metadata": {},
   "outputs": [
    {
     "data": {
      "text/html": [
       "<div>\n",
       "<style scoped>\n",
       "    .dataframe tbody tr th:only-of-type {\n",
       "        vertical-align: middle;\n",
       "    }\n",
       "\n",
       "    .dataframe tbody tr th {\n",
       "        vertical-align: top;\n",
       "    }\n",
       "\n",
       "    .dataframe thead th {\n",
       "        text-align: right;\n",
       "    }\n",
       "</style>\n",
       "<table border=\"1\" class=\"dataframe\">\n",
       "  <thead>\n",
       "    <tr style=\"text-align: right;\">\n",
       "      <th></th>\n",
       "      <th>x</th>\n",
       "      <th>y</th>\n",
       "      <th>classe</th>\n",
       "    </tr>\n",
       "  </thead>\n",
       "  <tbody>\n",
       "    <tr>\n",
       "      <th>0</th>\n",
       "      <td>1.183988</td>\n",
       "      <td>1.832880</td>\n",
       "      <td>0</td>\n",
       "    </tr>\n",
       "    <tr>\n",
       "      <th>1</th>\n",
       "      <td>1.523565</td>\n",
       "      <td>2.293337</td>\n",
       "      <td>0</td>\n",
       "    </tr>\n",
       "    <tr>\n",
       "      <th>2</th>\n",
       "      <td>2.199241</td>\n",
       "      <td>2.342880</td>\n",
       "      <td>0</td>\n",
       "    </tr>\n",
       "    <tr>\n",
       "      <th>3</th>\n",
       "      <td>2.768052</td>\n",
       "      <td>2.179136</td>\n",
       "      <td>0</td>\n",
       "    </tr>\n",
       "    <tr>\n",
       "      <th>4</th>\n",
       "      <td>2.165374</td>\n",
       "      <td>1.888445</td>\n",
       "      <td>0</td>\n",
       "    </tr>\n",
       "  </tbody>\n",
       "</table>\n",
       "</div>"
      ],
      "text/plain": [
       "          x         y  classe\n",
       "0  1.183988  1.832880       0\n",
       "1  1.523565  2.293337       0\n",
       "2  2.199241  2.342880       0\n",
       "3  2.768052  2.179136       0\n",
       "4  2.165374  1.888445       0"
      ]
     },
     "execution_count": 5,
     "metadata": {},
     "output_type": "execute_result"
    }
   ],
   "source": [
    "#Aplicando a função neuronio aos dados\n",
    "classificadores = []\n",
    "w0 = -5.5\n",
    "w1 = -1\n",
    "w2 = -1\n",
    "bias = 1\n",
    "for i, linha in dados.iterrows():\n",
    "  classe = Neuron(linha['x'], linha['y'], bias, w0, w1,w2)\n",
    "  classificadores.append(classe)\n",
    "\n",
    "dados['classe'] = classificadores\n",
    "dados.head()"
   ]
  },
  {
   "cell_type": "code",
   "execution_count": 6,
   "id": "e5733d0f",
   "metadata": {},
   "outputs": [
    {
     "data": {
      "image/png": "[encoded data removed]",
      "text/plain": [
       "<Figure size 400x400 with 1 Axes>"
      ]
     },
     "metadata": {},
     "output_type": "display_data"
    }
   ],
   "source": [
    "plt.figure(figsize=(4,4))\n",
    "cores =['blue' if c == 0 else 'green' for c in dados['classe']]\n",
    "plt.scatter(dados['x'], dados['y'], c=cores, s=10)\n",
    "\n",
    "\n",
    "eixox = np.linspace(0,6,100)\n",
    "eixoy = (w0 * -1) - eixox\n",
    "plt.plot(eixox, eixoy, '-r', linewidth=1)\n",
    "\n",
    "plt.xlim(0,6)\n",
    "plt.xlim(0,6)\n",
    "plt.xlabel('x')\n",
    "plt.ylabel('y')\n",
    "plt.grid(True, alpha=0.3)\n",
    "plt.show()"
   ]
  },
  {
   "cell_type": "markdown",
   "id": "5fe10a03",
   "metadata": {},
   "source": [
    "## Exercício 2: Funções de ativação"
   ]
  },
  {
   "cell_type": "code",
   "execution_count": 7,
   "id": "aee5440e",
   "metadata": {},
   "outputs": [],
   "source": [
    "import numpy as np\n",
    "import matplotlib.pyplot as plt"
   ]
  },
  {
   "cell_type": "code",
   "execution_count": 8,
   "id": "108d2367",
   "metadata": {},
   "outputs": [],
   "source": [
    "# Função para plotar gráficos\n",
    "def plot_graph(x,y,title):\n",
    "    plt.figure(figsize=(4,4))\n",
    "    plt.plot(x,y, '-b', linewidth=2)\n",
    "    plt.title(title)\n",
    "    plt.xlabel('x')\n",
    "    plt.ylabel('y')\n",
    "    plt.grid(True, alpha=0.3)\n",
    "    plt.show()"
   ]
  },
  {
   "cell_type": "code",
   "execution_count": 9,
   "id": "48cd8142",
   "metadata": {},
   "outputs": [],
   "source": [
    "# Função logistica \n",
    "def logistic(x, beta):\n",
    "    return 1 / (1 + np.exp(-beta * x))"
   ]
  },
  {
   "cell_type": "code",
   "execution_count": 10,
   "id": "1a383d59",
   "metadata": {},
   "outputs": [
    {
     "data": {
      "image/png": "[encoded data removed]",
      "text/plain": [
       "<Figure size 400x400 with 1 Axes>"
      ]
     },
     "metadata": {},
     "output_type": "display_data"
    }
   ],
   "source": [
    "\n",
    "# Gerando valores de x em um vetor\n",
    "x_val = np.arange(-10,10,0.1)\n",
    "\n",
    "# Calculando a função logística\n",
    "beta =  1\n",
    "y_val = logistic(x_val, beta)\n",
    "plot_graph(x_val, y_val, 'Função Logistica =' + str(beta))"
   ]
  },
  {
   "cell_type": "code",
   "execution_count": 11,
   "id": "153f7820",
   "metadata": {},
   "outputs": [],
   "source": [
    "# Função Degrau \n",
    "def degrau(x, beta):\n",
    "    return np.where(x >= 0, 1, 0)"
   ]
  },
  {
   "cell_type": "code",
   "execution_count": 12,
   "id": "258567df",
   "metadata": {},
   "outputs": [
    {
     "data": {
      "image/png": "[encoded data removed]",
      "text/plain": [
       "<Figure size 400x400 with 1 Axes>"
      ]
     },
     "metadata": {},
     "output_type": "display_data"
    }
   ],
   "source": [
    "# Gerando valores de x em um vetor\n",
    "x_val = np.arange(-10,10,0.1)\n",
    "\n",
    "beta = 1\n",
    "Y_val = degrau(x_val, beta)\n",
    "plot_graph(x_val, Y_val, 'Função Degrau =' + str(beta))\n"
   ]
  }
 ],
 "metadata": {
  "kernelspec": {
   "display_name": "Neuron",
   "language": "python",
   "name": "python3"
  },
  "language_info": {
   "codemirror_mode": {
    "name": "ipython",
    "version": 3
   },
   "file_extension": ".py",
   "mimetype": "text/x-python",
   "name": "python",
   "nbconvert_exporter": "python",
   "pygments_lexer": "ipython3",
   "version": "3.13.7"
  }
 },
 "nbformat": 4,
 "nbformat_minor": 5
}
